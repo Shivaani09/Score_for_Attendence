import pandas as pd
import numpy as np
import requests
import io
import matplotlib.pyplot as plt
%matplotlib inline
url = "https://raw.githubusercontent.com/Shivaani09/Score_for_Attendence/main/Score_for_Attendance.csv" 
download = requests.get(url).content

# Reading the downloaded content and turning it into a pandas dataframe

df = pd.read_csv(io.StringIO(download.decode('utf-8')))

# Printing out the first 5 rows of the dataframe

print (df.head())

print (df.tail())
     
print (df.describe())
        
print (df.info())

X = df.iloc[:,:-1].values   #"SCATTER PLOT" indicates positive linear relationship
Y = df.iloc[:,1].values

X

Y

from sklearn.model_selection import train_test_split    #Preparing Data and splitting into train and test sets
X_train,X_test,Y_train,Y_test = train_test_split(X,Y,random_state = 0,test_size=0.2)
print("X train.shape =", X_train.shape)
print("Y train.shape =", Y_train.shape)
print("X test.shape  =", X_test.shape)
print("Y test.shape  =", Y_test.shape)
X train.shape = (16, 1)
Y train.shape = (16,)
X test.shape  = (4, 1)
Y test.shape  = (4,)
from sklearn.linear_model import LinearRegression
linreg=LinearRegression()

#Fitting Training Data
linreg.fit(X_train,Y_train)
print("Training our algorithm is finished")
Training our algorithm is finished
print("B0 =",linreg.intercept_,"\nB1 =",linreg.coef_)

Y0 = linreg.intercept_ + linreg.coef_*X_train
plt.scatter(X_train,Y_train,color='blue',marker='.')
plt.plot(X_train,Y0,color='red')
plt.xlabel("Score",fontsize=15)
plt.ylabel("Attendance",fontsize=15)
plt.title("Attendance vs Score",fontsize=10)
plt.show()

Y_pred=linreg.predict(X_test)
print(Y_pred)

Y_test

plt.plot(X_test,Y_pred,color='orange')
plt.scatter(X_test,Y_test,color='green',marker='.')
plt.xlabel("Score",fontsize=15)
plt.ylabel("Attendance",fontsize=15)
plt.title("Attendance vs Score",fontsize=10)
plt.show()

Y_test1 = list(Y_test)
prediction=list(Y_pred)
df_compare = pd.DataFrame({ 'Actual':Y_test1,'Result':prediction})
df_compare

from sklearn import metrics
metrics.r2_score(Y_test,Y_pred)

from sklearn.metrics import mean_squared_error,mean_absolute_error

MSE = metrics.mean_squared_error(Y_test,Y_pred)
root_E = np.sqrt(metrics.mean_squared_error(Y_test,Y_pred))
Abs_E = np.sqrt(metrics.mean_squared_error(Y_test,Y_pred))
print("Mean Squared Error      = ",MSE)
print("Root Mean Squared Error = ",root_E)
print("Mean Absolute Error     = ",Abs_E)

Prediction_score = linreg.predict([[95]])
print("Predicted score for attending 95% of classes out of 50 :",Prediction_score)
